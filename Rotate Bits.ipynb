{
 "cells": [
  {
   "cell_type": "markdown",
   "id": "f0bfb732",
   "metadata": {},
   "source": [
    "# Given an integer N and an integer D, rotate the binary representation of the integer N by D digits to the left as well as right and print the results in decimal values after each of the rotation.\n",
    "Note: Integer N is stored using 16 bits. i.e. 12 will be stored as 0000.....001100.\n",
    "\n",
    "Example 1:\n",
    "\n",
    "Input:\n",
    "N = 28, D = 2\n",
    "\n",
    "Output:\n",
    "112,\n",
    "7\n",
    "\n",
    "Explanation: 28 in Binary is:\n",
    "000...011100\n",
    "Rotating left by 2 positions, it becomes\n",
    "00...1110000 = 112 (in decimal).\n",
    "Rotating right by 2 positions, it becomes\n",
    "000...000111 = 7 (in decimal).\n",
    "\n",
    "â€‹Example 2:\n",
    "\n",
    "Input: \n",
    "N = 29, D = 2\n",
    "\n",
    "Output: \n",
    "116,\n",
    "16391\n",
    "\n",
    "Explanation: 29 in Binary is:\n",
    "000...011101\n",
    "Rotating left by 2 positions, it becomes\n",
    "00...1110100 = 116 (in decimal).\n",
    "Rotating right by 2 positions, it becomes\n",
    "010...000111 = 16391 (in decimal).\n"
   ]
  },
  {
   "cell_type": "code",
   "execution_count": 1,
   "id": "3fd4aa99",
   "metadata": {},
   "outputs": [
    {
     "data": {
      "text/plain": [
       "(112, 7)"
      ]
     },
     "execution_count": 1,
     "metadata": {},
     "output_type": "execute_result"
    }
   ],
   "source": [
    "class Solution:\n",
    "    def rotate(self, N, D):\n",
    "        # code here\n",
    "        D = D % 16\n",
    "        bin_N = bin(N)[2:]\n",
    "        bin_N = '{:>016}'.format(bin_N)\n",
    "        return int(bin_N[D:] + bin_N[:D], 2), int(bin_N[-D:] + bin_N[:-D], 2)\n",
    "    \n",
    "N = 28\n",
    "D = 2\n",
    "\n",
    "obj = Solution()\n",
    "obj.rotate(N, D)"
   ]
  },
  {
   "cell_type": "code",
   "execution_count": null,
   "id": "41136652",
   "metadata": {},
   "outputs": [],
   "source": []
  }
 ],
 "metadata": {
  "kernelspec": {
   "display_name": "Python 3 (ipykernel)",
   "language": "python",
   "name": "python3"
  },
  "language_info": {
   "codemirror_mode": {
    "name": "ipython",
    "version": 3
   },
   "file_extension": ".py",
   "mimetype": "text/x-python",
   "name": "python",
   "nbconvert_exporter": "python",
   "pygments_lexer": "ipython3",
   "version": "3.9.12"
  }
 },
 "nbformat": 4,
 "nbformat_minor": 5
}
