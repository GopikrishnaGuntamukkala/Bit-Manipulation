{
 "cells": [
  {
   "cell_type": "markdown",
   "id": "3c826cb0",
   "metadata": {},
   "source": [
    "# You are given two numbers A and B. The task is to count the number of bits needed to be flipped to convert A to B.\n",
    "\n",
    "Example 1:\n",
    "\n",
    "Input: A = 10, B = 20\n",
    "    \n",
    "Output: 4\n",
    "    \n",
    "Explanation:\n",
    "    \n",
    "A  = 01010\n",
    "\n",
    "B  = 10100\n",
    "\n",
    "As we can see, the bits of A that need \n",
    "to be flipped are 01010. If we flip \n",
    "these bits, we get 10100, which is B.\n",
    "\n",
    "Example 2:\n",
    "\n",
    "Input: A = 20, B = 25\n",
    "    \n",
    "Output: 3\n",
    "    \n",
    "Explanation:\n",
    "    \n",
    "A  = 10100\n",
    "\n",
    "B  = 11001\n",
    "\n",
    "As we can see, the bits of A that need \n",
    "to be flipped are 10100. If we flip \n",
    "these bits, we get 11001, which is B."
   ]
  },
  {
   "cell_type": "code",
   "execution_count": 1,
   "id": "7453a9c1",
   "metadata": {},
   "outputs": [
    {
     "data": {
      "text/plain": [
       "3"
      ]
     },
     "execution_count": 1,
     "metadata": {},
     "output_type": "execute_result"
    }
   ],
   "source": [
    "\n",
    "class Solution:\n",
    "    ##Complete this function\n",
    "    # Function to find number of bits needed to be flipped to convert A to B\n",
    "    def countBitsFlip(self,a,b):\n",
    "        ##Your code here\n",
    "        c=0\n",
    "        while a>0 or b>0:\n",
    "            if a%2^b%2==1:\n",
    "                c+=1\n",
    "            a=a//2\n",
    "            b=b//2\n",
    "        return c\n",
    "    \n",
    "a = 20\n",
    "b = 25\n",
    "\n",
    "obj = Solution()\n",
    "obj.countBitsFlip(a, b)"
   ]
  },
  {
   "cell_type": "code",
   "execution_count": null,
   "id": "7922d252",
   "metadata": {},
   "outputs": [],
   "source": []
  }
 ],
 "metadata": {
  "kernelspec": {
   "display_name": "Python 3 (ipykernel)",
   "language": "python",
   "name": "python3"
  },
  "language_info": {
   "codemirror_mode": {
    "name": "ipython",
    "version": 3
   },
   "file_extension": ".py",
   "mimetype": "text/x-python",
   "name": "python",
   "nbconvert_exporter": "python",
   "pygments_lexer": "ipython3",
   "version": "3.9.12"
  }
 },
 "nbformat": 4,
 "nbformat_minor": 5
}
