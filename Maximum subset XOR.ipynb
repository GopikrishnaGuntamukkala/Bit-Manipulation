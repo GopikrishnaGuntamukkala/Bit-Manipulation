{
 "cells": [
  {
   "cell_type": "markdown",
   "id": "b4133d2e",
   "metadata": {},
   "source": [
    "Given an array arr[] of N positive integers. Find an integer denoting the maximum XOR subset value in the given array arr[].\n",
    "\n",
    "Example 1:\n",
    "\n",
    "Input : \n",
    "\n",
    "N = 3\n",
    "\n",
    "arr[] = {2, 4, 5}\n",
    "\n",
    "Output : 7\n",
    "\n",
    "    Explanation : \n",
    "The subset {2, 5} has maximum \n",
    "subset XOR value.\n",
    "\n",
    "Example 2 :\n",
    "\n",
    "Input : \n",
    "N= 3\n",
    "\n",
    "arr[] = {9, 8, 5}\n",
    "\n",
    "Output : 13\n",
    "\n",
    "    Explanation : \n",
    "The subset {8, 5} has maximum \n",
    "subset XOR value."
   ]
  },
  {
   "cell_type": "code",
   "execution_count": 1,
   "id": "c55d3e03",
   "metadata": {},
   "outputs": [
    {
     "data": {
      "text/plain": [
       "13"
      ]
     },
     "execution_count": 1,
     "metadata": {},
     "output_type": "execute_result"
    }
   ],
   "source": [
    "\n",
    "class Solution:\n",
    "    def maxSubarrayXOR(self, arr, N):\n",
    "        # add code here\n",
    "        x = 0\n",
    "        while True:\n",
    "            y = max(arr)\n",
    "            if y == 0:\n",
    "                return x\n",
    "            x = max(x, x ^ y)\n",
    "            arr = [min(z, z ^ y) for z in arr]\n",
    "            \n",
    "N = 3\n",
    "arr = [9,8,5]\n",
    "\n",
    "obj = Solution()\n",
    "obj.maxSubarrayXOR(arr, N)"
   ]
  },
  {
   "cell_type": "code",
   "execution_count": null,
   "id": "8a004d8a",
   "metadata": {},
   "outputs": [],
   "source": []
  }
 ],
 "metadata": {
  "kernelspec": {
   "display_name": "Python 3 (ipykernel)",
   "language": "python",
   "name": "python3"
  },
  "language_info": {
   "codemirror_mode": {
    "name": "ipython",
    "version": 3
   },
   "file_extension": ".py",
   "mimetype": "text/x-python",
   "name": "python",
   "nbconvert_exporter": "python",
   "pygments_lexer": "ipython3",
   "version": "3.9.12"
  }
 },
 "nbformat": 4,
 "nbformat_minor": 5
}
