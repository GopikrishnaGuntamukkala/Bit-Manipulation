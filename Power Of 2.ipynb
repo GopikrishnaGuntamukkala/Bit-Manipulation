{
 "cells": [
  {
   "cell_type": "markdown",
   "id": "62fbef61",
   "metadata": {},
   "source": [
    "Given a non-negative integer N. The task is to check if N is a power of 2. More formally, check if N can be expressed as 2x for some x.\n",
    "\n",
    "Example 1:\n",
    "\n",
    "Input: N = 1\n",
    "    \n",
    "Output: YES\n",
    "    \n",
    "Explanation:1 is equal to 2 \n",
    "raised to 0 (20 = 1).\n",
    "\n",
    "Example 2:\n",
    "\n",
    "Input: N = 98\n",
    "    \n",
    "Output: NO\n",
    "    \n",
    "Explanation: 98 cannot be obtained\n",
    "by any power of 2."
   ]
  },
  {
   "cell_type": "code",
   "execution_count": 1,
   "id": "7c1b3911",
   "metadata": {},
   "outputs": [
    {
     "data": {
      "text/plain": [
       "1"
      ]
     },
     "execution_count": 1,
     "metadata": {},
     "output_type": "execute_result"
    }
   ],
   "source": [
    "class Solution:\n",
    "    ##Complete this function\n",
    "    # Function to check if given number n is a power of two.\n",
    "    #python solution \n",
    "   def isPowerofTwo(self,n):\n",
    "       if (n == 0):\n",
    "           return 0\n",
    "       if ((n & (~(n - 1))) == n):\n",
    "           return 1\n",
    "       return 0\n",
    "    \n",
    "n = 1\n",
    "    \n",
    "obj = Solution()\n",
    "obj.isPowerofTwo(n)"
   ]
  },
  {
   "cell_type": "markdown",
   "id": "712bbb12",
   "metadata": {},
   "source": []
  }
 ],
 "metadata": {
  "kernelspec": {
   "display_name": "Python 3 (ipykernel)",
   "language": "python",
   "name": "python3"
  },
  "language_info": {
   "codemirror_mode": {
    "name": "ipython",
    "version": 3
   },
   "file_extension": ".py",
   "mimetype": "text/x-python",
   "name": "python",
   "nbconvert_exporter": "python",
   "pygments_lexer": "ipython3",
   "version": "3.9.12"
  }
 },
 "nbformat": 4,
 "nbformat_minor": 5
}
