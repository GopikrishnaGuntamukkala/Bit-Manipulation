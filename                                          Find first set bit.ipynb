{
 "cells": [
  {
   "cell_type": "markdown",
   "id": "ee32cea1",
   "metadata": {},
   "source": [
    "Given an integer an N. The task is to return the position of first set bit found from the right side in the binary representation of the number.\n",
    "\n",
    "Note: If there is no set bit in the integer N, then return 0 from the function.  \n",
    "\n",
    "Example 1:\n",
    "\n",
    "Input: N = 18\n",
    "\n",
    "Output: 2\n",
    "\n",
    "Explanation: Binary representation of \n",
    "18 is 010010,the first set bit from the \n",
    "right side is at position 2.\n",
    "\n",
    "Example 2:\n",
    "\n",
    "Input: N = 12 \n",
    "\n",
    "    Output: 3 \n",
    "\n",
    "Explanation: Binary representation \n",
    "of  12 is 1100, the first set bit \n",
    "from the right side is at position 3."
   ]
  },
  {
   "cell_type": "code",
   "execution_count": 2,
   "id": "7fb158a9",
   "metadata": {},
   "outputs": [
    {
     "data": {
      "text/plain": [
       "2"
      ]
     },
     "execution_count": 2,
     "metadata": {},
     "output_type": "execute_result"
    }
   ],
   "source": [
    "\n",
    "import math\n",
    "class Solution:\n",
    "    \n",
    "    #Function to find position of first set bit in the given number.\n",
    "    def getFirstSetBit(self,n):\n",
    "        #Your code here\n",
    "\n",
    "        if(n==0):\n",
    "            return 0\n",
    "        return math.ceil(math.log2(n&-n)+1)\n",
    "    \n",
    "    \n",
    "n = 18\n",
    "obj = Solution()\n",
    "obj.getFirstSetBit(n)"
   ]
  },
  {
   "cell_type": "code",
   "execution_count": null,
   "id": "b28cc6c8",
   "metadata": {},
   "outputs": [],
   "source": []
  }
 ],
 "metadata": {
  "kernelspec": {
   "display_name": "Python 3 (ipykernel)",
   "language": "python",
   "name": "python3"
  },
  "language_info": {
   "codemirror_mode": {
    "name": "ipython",
    "version": 3
   },
   "file_extension": ".py",
   "mimetype": "text/x-python",
   "name": "python",
   "nbconvert_exporter": "python",
   "pygments_lexer": "ipython3",
   "version": "3.9.12"
  }
 },
 "nbformat": 4,
 "nbformat_minor": 5
}
