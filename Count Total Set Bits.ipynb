{
 "cells": [
  {
   "cell_type": "markdown",
   "id": "15a97434",
   "metadata": {},
   "source": [
    "You are given a number N. Find the total count of set bits for all numbers from 1 to N(both inclusive).\n",
    "\n",
    "Example 1:\n",
    "\n",
    "Input: N = 4\n",
    "    \n",
    "Output: 5\n",
    "    \n",
    "Explanation:\n",
    "    \n",
    "For numbers from 1 to 4.\n",
    "\n",
    "For 1: 0 0 1 = 1 set bits\n",
    "    \n",
    "For 2: 0 1 0 = 1 set bits\n",
    "    \n",
    "For 3: 0 1 1 = 2 set bits\n",
    "    \n",
    "For 4: 1 0 0 = 1 set bits\n",
    "    \n",
    "Therefore, the total set bits is 5.\n",
    "Example 2:\n",
    "    \n",
    "\n",
    "Input: N = 17\n",
    "    \n",
    "Output: 35\n",
    "    \n",
    "Explanation: From numbers 1 to 17(both inclusive), \n",
    "the total number of set bits is 35.\n"
   ]
  },
  {
   "cell_type": "code",
   "execution_count": 1,
   "id": "c2ec2797",
   "metadata": {},
   "outputs": [
    {
     "data": {
      "text/plain": [
       "5"
      ]
     },
     "execution_count": 1,
     "metadata": {},
     "output_type": "execute_result"
    }
   ],
   "source": [
    "class Solution:\n",
    "    #Function to return sum of count of set bits in the integers from 1 to n.\n",
    "    def countSetBits(self,n):\n",
    "        # code here\n",
    "        # return the count\n",
    "        gul=0\n",
    "        g = 1\n",
    "        while (g<=n):\n",
    "            g=g*2\n",
    "            quotient = (n+1)//g\n",
    "            remainder = (n+1)%g\n",
    "            total = quotient*(g//2)\n",
    "            if remainder>(g//2):\n",
    "                total+=remainder - g//2\n",
    "            gul+=total\n",
    "        return gul\n",
    "    \n",
    "n = 4\n",
    "\n",
    "obj = Solution()\n",
    "obj.countSetBits(n)"
   ]
  },
  {
   "cell_type": "code",
   "execution_count": null,
   "id": "8da85815",
   "metadata": {},
   "outputs": [],
   "source": []
  }
 ],
 "metadata": {
  "kernelspec": {
   "display_name": "Python 3 (ipykernel)",
   "language": "python",
   "name": "python3"
  },
  "language_info": {
   "codemirror_mode": {
    "name": "ipython",
    "version": 3
   },
   "file_extension": ".py",
   "mimetype": "text/x-python",
   "name": "python",
   "nbconvert_exporter": "python",
   "pygments_lexer": "ipython3",
   "version": "3.9.12"
  }
 },
 "nbformat": 4,
 "nbformat_minor": 5
}
