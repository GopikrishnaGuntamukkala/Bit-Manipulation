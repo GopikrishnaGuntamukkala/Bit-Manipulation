{
 "cells": [
  {
   "cell_type": "markdown",
   "id": "74fcf83b",
   "metadata": {},
   "source": [
    "Given a number N and a bit number K, check if Kth bit of N is set or not. A bit is called set if it is 1. Position of set bit '1' should be indexed starting with 0 from LSB side in binary representation of the number.\n",
    "\n",
    "Example 1:\n",
    "\n",
    "Input: N = 4, K = 0\n",
    "\n",
    "Output: No\n",
    "\n",
    "Explanation: Binary representation of 4 is 100, \n",
    "in which 0th bit from LSB is not set. \n",
    "So, return false."
   ]
  },
  {
   "cell_type": "code",
   "execution_count": 1,
   "id": "50010382",
   "metadata": {},
   "outputs": [
    {
     "data": {
      "text/plain": [
       "False"
      ]
     },
     "execution_count": 1,
     "metadata": {},
     "output_type": "execute_result"
    }
   ],
   "source": [
    "class Solution:\n",
    "\n",
    "    def checkKthBit(self, n,k):\n",
    "       n = n>>k\n",
    "       return n&1 ==1\n",
    "n = 4\n",
    "k = 0\n",
    "obj = Solution()\n",
    "obj.checkKthBit(n, k)"
   ]
  },
  {
   "cell_type": "code",
   "execution_count": null,
   "id": "afcb193d",
   "metadata": {},
   "outputs": [],
   "source": []
  }
 ],
 "metadata": {
  "kernelspec": {
   "display_name": "Python 3 (ipykernel)",
   "language": "python",
   "name": "python3"
  },
  "language_info": {
   "codemirror_mode": {
    "name": "ipython",
    "version": 3
   },
   "file_extension": ".py",
   "mimetype": "text/x-python",
   "name": "python",
   "nbconvert_exporter": "python",
   "pygments_lexer": "ipython3",
   "version": "3.9.12"
  }
 },
 "nbformat": 4,
 "nbformat_minor": 5
}
