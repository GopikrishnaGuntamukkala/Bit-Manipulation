{
 "cells": [
  {
   "cell_type": "markdown",
   "id": "863e55ec",
   "metadata": {},
   "source": [
    "Given a number N. Find the length of the longest consecutive 1s in its binary representation.\n",
    "\n",
    "Example 1:\n",
    "\n",
    "Input: N = 14\n",
    "    \n",
    "Output: 3\n",
    "    \n",
    "Explanation: \n",
    "Binary representation of 14 is \n",
    "1110, in which 111 is the longest \n",
    "consecutive set bits of length is 3.\n",
    "\n",
    "Example 2:\n",
    "\n",
    "Input: N = 222\n",
    "    \n",
    "Output: 4\n",
    "    \n",
    "Explanation: \n",
    "    \n",
    "Binary representation of 222 is \n",
    "11011110, in which 1111 is the \n",
    "longest consecutive set bits of length 4. \n"
   ]
  },
  {
   "cell_type": "code",
   "execution_count": 1,
   "id": "cd37ff4f",
   "metadata": {},
   "outputs": [
    {
     "data": {
      "text/plain": [
       "3"
      ]
     },
     "execution_count": 1,
     "metadata": {},
     "output_type": "execute_result"
    }
   ],
   "source": [
    "\n",
    "class Solution:\n",
    "    ##Complete this function\n",
    "    # Function to calculate the longest consecutive ones\n",
    "    def maxConsecutiveOnes(self, N):\n",
    "        \n",
    "        c=0\n",
    "        ans=0\n",
    "        while (N):\n",
    "            if (N&1==1):\n",
    "                c+=1\n",
    "            else:\n",
    "                c=0\n",
    "            ans=max(ans , c)\n",
    "            N>>=1\n",
    "        return ans\n",
    "    \n",
    "N = 14\n",
    "\n",
    "obj = Solution()\n",
    "obj.maxConsecutiveOnes(N)"
   ]
  },
  {
   "cell_type": "code",
   "execution_count": null,
   "id": "62e28742",
   "metadata": {},
   "outputs": [],
   "source": []
  }
 ],
 "metadata": {
  "kernelspec": {
   "display_name": "Python 3 (ipykernel)",
   "language": "python",
   "name": "python3"
  },
  "language_info": {
   "codemirror_mode": {
    "name": "ipython",
    "version": 3
   },
   "file_extension": ".py",
   "mimetype": "text/x-python",
   "name": "python",
   "nbconvert_exporter": "python",
   "pygments_lexer": "ipython3",
   "version": "3.9.12"
  }
 },
 "nbformat": 4,
 "nbformat_minor": 5
}
