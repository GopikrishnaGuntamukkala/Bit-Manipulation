{
 "cells": [
  {
   "cell_type": "markdown",
   "id": "4cc26080",
   "metadata": {},
   "source": [
    "Given a number N. The task is to check whether it is sparse or not. A number is said to be a sparse number if no two or more consecutive bits are set in the binary representation.\n",
    "\n",
    "Example 1:\n",
    "\n",
    "Input: N = 2\n",
    "    \n",
    "Output: 1\n",
    "    \n",
    "Explanation: Binary Representation of 2 is 10, \n",
    "which is not having consecutive set bits. \n",
    "So, it is sparse number.\n",
    "\n",
    "Example 2:\n",
    "\n",
    "Input: N = 3\n",
    "    \n",
    "Output: 0\n",
    "    \n",
    "Explanation: Binary Representation of 3 is 11, \n",
    "which is having consecutive set bits in it. \n",
    "\n",
    "So, it is not a sparse number.\n"
   ]
  },
  {
   "cell_type": "code",
   "execution_count": 1,
   "id": "56df2ba6",
   "metadata": {},
   "outputs": [
    {
     "data": {
      "text/plain": [
       "1"
      ]
     },
     "execution_count": 1,
     "metadata": {},
     "output_type": "execute_result"
    }
   ],
   "source": [
    "#User function Template for python3\n",
    "\n",
    "class Solution:\n",
    "    \n",
    "    #Function to check if the number is sparse or not.\n",
    "    def isSparse(self,n):\n",
    "        #Your code here \n",
    "        if (n & (n>>1)):\n",
    "            return 0\n",
    "  \n",
    "        return 1\n",
    "\n",
    "n =2\n",
    "\n",
    "obj = Solution()\n",
    "obj.isSparse(n)"
   ]
  },
  {
   "cell_type": "code",
   "execution_count": null,
   "id": "1d3bdd96",
   "metadata": {},
   "outputs": [],
   "source": []
  }
 ],
 "metadata": {
  "kernelspec": {
   "display_name": "Python 3 (ipykernel)",
   "language": "python",
   "name": "python3"
  },
  "language_info": {
   "codemirror_mode": {
    "name": "ipython",
    "version": 3
   },
   "file_extension": ".py",
   "mimetype": "text/x-python",
   "name": "python",
   "nbconvert_exporter": "python",
   "pygments_lexer": "ipython3",
   "version": "3.9.12"
  }
 },
 "nbformat": 4,
 "nbformat_minor": 5
}
