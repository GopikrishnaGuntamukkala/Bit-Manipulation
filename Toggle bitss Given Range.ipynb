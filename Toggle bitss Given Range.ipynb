{
 "cells": [
  {
   "cell_type": "markdown",
   "id": "ce4527b1",
   "metadata": {},
   "source": [
    "Given a non-negative number N and two values L and R. The problem is to toggle the bits in the range L to R in the binary representation of N, i.e, to toggle bits from the rightmost Lth bit to the rightmost Rth bit. A toggle operation flips a bit 0 to 1 and a bit 1 to 0. Print N after the bits are toggled.\n",
    "\n",
    " "
   ]
  },
  {
   "cell_type": "code",
   "execution_count": 1,
   "id": "db77ee4e",
   "metadata": {},
   "outputs": [
    {
     "data": {
      "text/plain": [
       "23"
      ]
     },
     "execution_count": 1,
     "metadata": {},
     "output_type": "execute_result"
    }
   ],
   "source": [
    "class Solution:\n",
    "    def toggleBits(self, N , L , R):\n",
    "        # code here\n",
    "        res = (1<<(L-1))-1\n",
    "        res1 = (1<<R)-1\n",
    "        temp=res^res1\n",
    "        return N^temp\n",
    "    \n",
    "N = 17 \n",
    "L = 2 \n",
    "R = 3\n",
    "\n",
    "obj = Solution()\n",
    "obj.toggleBits(N, L,R)"
   ]
  },
  {
   "cell_type": "code",
   "execution_count": null,
   "id": "ad42d8f6",
   "metadata": {},
   "outputs": [],
   "source": []
  }
 ],
 "metadata": {
  "kernelspec": {
   "display_name": "Python 3 (ipykernel)",
   "language": "python",
   "name": "python3"
  },
  "language_info": {
   "codemirror_mode": {
    "name": "ipython",
    "version": 3
   },
   "file_extension": ".py",
   "mimetype": "text/x-python",
   "name": "python",
   "nbconvert_exporter": "python",
   "pygments_lexer": "ipython3",
   "version": "3.9.12"
  }
 },
 "nbformat": 4,
 "nbformat_minor": 5
}
