{
 "cells": [
  {
   "cell_type": "markdown",
   "id": "7b2a7323",
   "metadata": {},
   "source": [
    "Given a number N and a value K. From the right, set the Kth bit in the binary representation of N. The position of Least Significant Bit(or last bit) is 0, the second last bit is 1 and so on. \n",
    "\n",
    "Example 1:\n",
    "\n",
    "Input:\n",
    "N = 10 \n",
    "\n",
    "K = 2\n",
    "\n",
    "Output:\n",
    "14\n",
    "\n",
    "Explanation:\n",
    "Binary representation of the given number\n",
    "10 is: 1 0 1 0, number of bits in the \n",
    "binary reprsentation is 4. Thus 2nd bit\n",
    "from right is 0. The number after changing\n",
    "this bit to 1 is: 14(1 1 1 0).\n",
    "    \n",
    "Example 2:\n",
    "\n",
    "Input:\n",
    "N = 15 \n",
    "\n",
    "K = 3\n",
    "\n",
    "Output:\n",
    "15\n",
    "\n",
    "Explanation:\n",
    "The binary representation of the given\n",
    "number 15 is: 1 1 1 1, number of bits\n",
    "in the binary representation is 4. Thus\n",
    "3rd bit from the right is 1. The number\n",
    "after changing this bit to 1 is\n",
    "15(1 1 1 1)."
   ]
  },
  {
   "cell_type": "code",
   "execution_count": 1,
   "id": "d2959f92",
   "metadata": {},
   "outputs": [
    {
     "data": {
      "text/plain": [
       "14"
      ]
     },
     "execution_count": 1,
     "metadata": {},
     "output_type": "execute_result"
    }
   ],
   "source": [
    "class Solution:\n",
    "\tdef setKthBit(self, N, K):\n",
    "\t\t# code here\n",
    "\t\tx=2**K\n",
    "\t\treturn N|x\n",
    "\n",
    "    \n",
    "N = 10\n",
    "K = 2\n",
    "\n",
    "obj =Solution()\n",
    "obj.setKthBit(N, K)"
   ]
  },
  {
   "cell_type": "code",
   "execution_count": null,
   "id": "c1a97e4e",
   "metadata": {},
   "outputs": [],
   "source": []
  }
 ],
 "metadata": {
  "kernelspec": {
   "display_name": "Python 3 (ipykernel)",
   "language": "python",
   "name": "python3"
  },
  "language_info": {
   "codemirror_mode": {
    "name": "ipython",
    "version": 3
   },
   "file_extension": ".py",
   "mimetype": "text/x-python",
   "name": "python",
   "nbconvert_exporter": "python",
   "pygments_lexer": "ipython3",
   "version": "3.9.12"
  }
 },
 "nbformat": 4,
 "nbformat_minor": 5
}
