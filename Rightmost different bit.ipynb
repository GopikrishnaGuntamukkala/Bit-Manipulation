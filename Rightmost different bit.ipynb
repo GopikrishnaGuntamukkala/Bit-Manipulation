{
 "cells": [
  {
   "cell_type": "markdown",
   "id": "1e1712ff",
   "metadata": {},
   "source": [
    "Given two numbers M and N. The task is to find the position of the rightmost different bit in the binary representation of numbers.\n",
    "\n",
    "Example 1: \n",
    "\n",
    "Input: M = 11, N = 9\n",
    "    \n",
    "Output: 2\n",
    "    \n",
    "Explanation: Binary representation of the given \n",
    "numbers are: 1011 and 1001, \n",
    "2nd bit from right is different."
   ]
  },
  {
   "cell_type": "code",
   "execution_count": 1,
   "id": "46df2149",
   "metadata": {},
   "outputs": [
    {
     "data": {
      "text/plain": [
       "2"
      ]
     },
     "execution_count": 1,
     "metadata": {},
     "output_type": "execute_result"
    }
   ],
   "source": [
    "\n",
    "class Solution:\n",
    "    \n",
    "    #Function to find the first position with different bits.\n",
    "    def posOfRightMostDiffBit(self,m,n):\n",
    "        #Your code here\n",
    "        c =0\n",
    "        while(n>0 or m>0):\n",
    "            c+=1\n",
    "            if((n%2)!=(m%2)):\n",
    "            \n",
    "            \n",
    "                return c\n",
    "            n=n>>1\n",
    "            m=m>>1\n",
    "        return -1\n",
    "    \n",
    "m = 11\n",
    "n = 9\n",
    "obj = Solution()\n",
    "obj.posOfRightMostDiffBit(m,n)"
   ]
  },
  {
   "cell_type": "code",
   "execution_count": null,
   "id": "31efef2b",
   "metadata": {},
   "outputs": [],
   "source": []
  }
 ],
 "metadata": {
  "kernelspec": {
   "display_name": "Python 3 (ipykernel)",
   "language": "python",
   "name": "python3"
  },
  "language_info": {
   "codemirror_mode": {
    "name": "ipython",
    "version": 3
   },
   "file_extension": ".py",
   "mimetype": "text/x-python",
   "name": "python",
   "nbconvert_exporter": "python",
   "pygments_lexer": "ipython3",
   "version": "3.9.12"
  }
 },
 "nbformat": 4,
 "nbformat_minor": 5
}
