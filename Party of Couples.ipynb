{
 "cells": [
  {
   "cell_type": "markdown",
   "id": "abc7b283",
   "metadata": {},
   "source": [
    " a party of N people, each person is denoted by an integer. Couples are represented by the same number. Find out the only single person in the party of couples.\n",
    "\n",
    "\n",
    "Example 1:\n",
    "\n",
    "Input: N = 5\n",
    "\n",
    "    arr = {1, 2, 3, 2, 1}\n",
    "    \n",
    "Output: 3\n",
    "    \n",
    "Explaination: Only the number 3 is single.\n",
    "\n",
    "Example 2:\n",
    "\n",
    "Input: N = 11\n",
    "    \n",
    "arr = {1, 2, 3, 5, 3, 2, 1, 4, 5, 6, 6}\n",
    "\n",
    "Output: 4\n",
    "    \n",
    "Explaination: 4 is the only single."
   ]
  },
  {
   "cell_type": "code",
   "execution_count": 1,
   "id": "d1b22d38",
   "metadata": {},
   "outputs": [
    {
     "data": {
      "text/plain": [
       "3"
      ]
     },
     "execution_count": 1,
     "metadata": {},
     "output_type": "execute_result"
    }
   ],
   "source": [
    "class Solution:\n",
    "    def findSingle(self, N, arr):\n",
    "        # code here\n",
    "        ans = 0\n",
    "        for i in range(N):\n",
    "            ans = ans^arr[i]\n",
    "        return ans\n",
    "\n",
    "N = 5\n",
    "arr = [1, 2, 3, 2, 1]\n",
    "\n",
    "obj = Solution()\n",
    "obj.findSingle(N, arr)"
   ]
  },
  {
   "cell_type": "code",
   "execution_count": null,
   "id": "9bf4847d",
   "metadata": {},
   "outputs": [],
   "source": []
  }
 ],
 "metadata": {
  "kernelspec": {
   "display_name": "Python 3 (ipykernel)",
   "language": "python",
   "name": "python3"
  },
  "language_info": {
   "codemirror_mode": {
    "name": "ipython",
    "version": 3
   },
   "file_extension": ".py",
   "mimetype": "text/x-python",
   "name": "python",
   "nbconvert_exporter": "python",
   "pygments_lexer": "ipython3",
   "version": "3.9.12"
  }
 },
 "nbformat": 4,
 "nbformat_minor": 5
}
