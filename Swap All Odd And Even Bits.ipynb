{
 "cells": [
  {
   "cell_type": "markdown",
   "id": "9a9439b3",
   "metadata": {},
   "source": [
    "Given an unsigned integer N. The task is to swap all odd bits with even bits. For example, if the given number is 23 (00010111), it should be converted to 43(00101011). Here, every even position bit is swapped with adjacent bit on the right side(even position bits are highlighted in the binary representation of 23), and every odd position bit is swapped with an adjacent on the left side.\n",
    "\n",
    "Example 1:\n",
    "\n",
    "Input: N = 23\n",
    "    \n",
    "Output: 43\n",
    "    \n",
    "Explanation: \n",
    "Binary representation of the given number \n",
    "is 00010111 after swapping \n",
    "00101011 = 43 in decimal.\n",
    "\n",
    "Example 2:\n",
    "    \n",
    "\n",
    "Input: N = 2\n",
    "    \n",
    "Output: 1\n",
    "    \n",
    "Explanation: \n",
    "    \n",
    "Binary representation of the given number \n",
    "is 10 after swapping 01 = 1 in decimal.\n"
   ]
  },
  {
   "cell_type": "code",
   "execution_count": 1,
   "id": "39f5ffa2",
   "metadata": {},
   "outputs": [
    {
     "data": {
      "text/plain": [
       "43"
      ]
     },
     "execution_count": 1,
     "metadata": {},
     "output_type": "execute_result"
    }
   ],
   "source": [
    "class Solution:\n",
    "   ##Complete this function\n",
    "   #Function to swap odd and even bits.\n",
    "   def swapBits(self,n):\n",
    "       b = bin(n)[2:]\n",
    "       b = '0'*(20-len(b))+b\n",
    "       l = list(b)\n",
    "       for i in range(0, len(b), 2):\n",
    "           if i!=len(b)-1:\n",
    "               l[i], l[i+1] = l[i+1], l[i]\n",
    "       b = ''.join(l)\n",
    "       return int(b, 2)\n",
    "\n",
    "n = 23\n",
    "\n",
    "obj = Solution()\n",
    "obj.swapBits(n)"
   ]
  },
  {
   "cell_type": "code",
   "execution_count": null,
   "id": "16c476c7",
   "metadata": {},
   "outputs": [],
   "source": []
  }
 ],
 "metadata": {
  "kernelspec": {
   "display_name": "Python 3 (ipykernel)",
   "language": "python",
   "name": "python3"
  },
  "language_info": {
   "codemirror_mode": {
    "name": "ipython",
    "version": 3
   },
   "file_extension": ".py",
   "mimetype": "text/x-python",
   "name": "python",
   "nbconvert_exporter": "python",
   "pygments_lexer": "ipython3",
   "version": "3.9.12"
  }
 },
 "nbformat": 4,
 "nbformat_minor": 5
}
